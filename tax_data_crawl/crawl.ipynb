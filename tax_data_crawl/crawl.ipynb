{
 "cells": [
  {
   "cell_type": "code",
   "execution_count": 1,
   "metadata": {},
   "outputs": [],
   "source": [
    "from bs4 import BeautifulSoup, Tag\n",
    "from urllib import request\n",
    "import json\n",
    "from pathlib import Path\n",
    "import os\n",
    "import requests\n",
    "import numpy as np\n",
    "from utils import *"
   ]
  },
  {
   "cell_type": "code",
   "execution_count": 2,
   "metadata": {},
   "outputs": [],
   "source": [
    "urls = [\"https://www.gdt.gov.vn/wps/portal?1dmy&mapping=home/documents/detail&urile=wcm%3apath%3a/GDT%20Content/sa_gdt/sa_vanban/vbhd/vbhd_tct/2014-12/35cb107f-9b26-4750-a1f9-7c3d24f4f92b\",\n",
    "        \"https://www.gdt.gov.vn/wps/portal?1dmy&mapping=home/documents/detail&urile=wcm%3apath%3a/GDT%20Content/sa_gdt/sa_vanban/vbhd/vbhd_tct/2014-12/82704079-a302-49f3-96d3-0c90f6346f60\",\n",
    "        \"https://www.gdt.gov.vn/wps/portal?1dmy&mapping=home/documents/detail&urile=wcm%3apath%3a/GDT%20Content/sa_gdt/sa_vanban/vbhd/vbhd_tct/legal_100019_122311\",\n",
    "        \"https://www.gdt.gov.vn/wps/portal?1dmy&mapping=home/documents/detail&urile=wcm%3apath%3a/GDT%20Content/sa_gdt/sa_vanban/sa_vanbanphapquy/vanban_thongtu/legal_100017_121320\"]"
   ]
  },
  {
   "cell_type": "code",
   "execution_count": null,
   "metadata": {},
   "outputs": [],
   "source": [
    "soup = get_content_url(\"https://www.gdt.gov.vn/wps/portal/!ut/p/z1/tVLBcoIwFPyVevDI5IWkAkekjqCo43SKkguTKAVaCNhGWvv1DdpDL9bpOObyspP3djdvFjG0Rkzytsi4KmrJS41jNki85dSLphEAOPcmBLNR9BC6A1hgQBFiiG2kalSO4myr7ja1VKlUfXjnicbH2nIpuPx1bXLe7PaHPpxgovJaZmrfhzLNeJlgrYStBJuYmNAJNJtii2Li2FQIahrcTlODgg0GpyY3BBHCopbtWNrQ6pJjpp_hzHG7eXZs8cauT60QwKZjgIAOF3PfW2IIyE_DHxyx9mCd9eCbaNUW6Qd6kvVbpZf8-M8v-hcV8JUKF-jJTekduJJ-glhW1uIU3-Jlt2OuzmiXy0-F1rcJaVNVNjkYr8-zEaHxpP0azo2uhG6v9w1FhbQM/dz/d5/L2dBISEvZ0FBIS9nQSEh/\")\n",
    "panes = get_content_panes(soup)\n",
    "downloadTag = soup.find(\"a\", class_=\"linkDown\")\n",
    "if downloadTag:\n",
    "    get_file(soup)\n",
    "    get_metadata(soup)\n",
    "else:\n",
    "    content = get_descendant_texts(panes[0])\n",
    "    with open(\"thue_ttcn/preview.text\", \"w\") as f:\n",
    "        f.write(content)\n",
    "        f.close()"
   ]
  },
  {
   "cell_type": "code",
   "execution_count": null,
   "metadata": {},
   "outputs": [],
   "source": []
  }
 ],
 "metadata": {
  "kernelspec": {
   "display_name": "cmc-agent",
   "language": "python",
   "name": "python3"
  },
  "language_info": {
   "codemirror_mode": {
    "name": "ipython",
    "version": 3
   },
   "file_extension": ".py",
   "mimetype": "text/x-python",
   "name": "python",
   "nbconvert_exporter": "python",
   "pygments_lexer": "ipython3",
   "version": "3.9.21"
  }
 },
 "nbformat": 4,
 "nbformat_minor": 2
}
