{
 "cells": [
  {
   "cell_type": "code",
   "execution_count": 1,
   "metadata": {},
   "outputs": [],
   "source": [
    "from bs4 import BeautifulSoup, Tag\n",
    "from urllib import request\n",
    "import json\n",
    "from pathlib import Path\n",
    "import os\n",
    "import requests\n",
    "import numpy as np"
   ]
  },
  {
   "cell_type": "code",
   "execution_count": null,
   "metadata": {},
   "outputs": [],
   "source": [
    "def get_content_url(url):\n",
    "    page = request.urlopen(url)\n",
    "    soup = BeautifulSoup(page, \"html.parser\", from_encoding=\"utf-8\")\n",
    "    return soup"
   ]
  },
  {
   "cell_type": "code",
   "execution_count": 99,
   "metadata": {},
   "outputs": [],
   "source": [
    "def get_content_panes(soup):\n",
    "    panes = soup.find_all(\"div\", class_=\"panes\")\n",
    "    return panes"
   ]
  },
  {
   "cell_type": "code",
   "execution_count": 100,
   "metadata": {},
   "outputs": [],
   "source": [
    "url = \"https://www.gdt.gov.vn/wps/portal/!ut/p/z1/tZJNc4IwEIb_Sj14ZLIhGOCI1BEUdZxOqeTChE9pIWCboR-_3qC9Wqdjm0N2dnbz7LuZFzG0Q0zwviq5rFrBa5VHjMbudumGyxAA7IkO_moW3gcOhQ0GFCKGWCpkJ_coKjN5l7ZC5kKO4Y3HKj_FnouEizH0yT4737FMVanOS17HWHGxHWNdN4k94Lq0ylBETZoWVKdakVLQDD7JtCTJbY1gkhkWBt1MdPR0TR9TZbhwHFDv2anFnTueYQYAljEH8I3pZu25Www--W74gREpDeZFDZ4S2Vf5O3oU7WujvvThlyt6VyfgGydcwZN_xdtwI36BWFm3ydms1fPhwBzlyMGFHxLt_sKSXdNY5FN7KVYzYkSL_mu61oYQOKPREevg9Pw!/dz/d5/L2dBISEvZ0FBIS9nQSEh/\"\n",
    "soup = get_content_url(url)\n",
    "panes = get_content_panes(soup)"
   ]
  },
  {
   "cell_type": "code",
   "execution_count": 101,
   "metadata": {},
   "outputs": [
    {
     "ename": "TypeError",
     "evalue": "'numpy.ndarray' object is not callable",
     "output_type": "error",
     "traceback": [
      "\u001b[0;31m---------------------------------------------------------------------------\u001b[0m",
      "\u001b[0;31mTypeError\u001b[0m                                 Traceback (most recent call last)",
      "Cell \u001b[0;32mIn[101], line 1\u001b[0m\n\u001b[0;32m----> 1\u001b[0m \u001b[38;5;28;43mlen\u001b[39;49m\u001b[43m(\u001b[49m\u001b[43mpanes\u001b[49m\u001b[43m)\u001b[49m\n",
      "\u001b[0;31mTypeError\u001b[0m: 'numpy.ndarray' object is not callable"
     ]
    }
   ],
   "source": [
    "len(panes)"
   ]
  },
  {
   "cell_type": "code",
   "execution_count": 3,
   "metadata": {},
   "outputs": [],
   "source": [
    "def get_file_and_metadata(url):\n",
    "    \"\"\"\n",
    "    get file và tạo metadata cho file khi request url\n",
    "    \"\"\"\n",
    "    prefix_url = \"https://www.gdt.gov.vn\"\n",
    "    metadata_keys = [\"documentName\", \"numberSymbol\", \"issueDate\", \"effectiveDate\", \"expirationDate\", \"signedBy\", \"replacedDocument\", \"issuingAuthority\",\n",
    "                     \"documentStatus\", \"attachedFile\"]\n",
    "    page = request.urlopen(url)\n",
    "    soup = BeautifulSoup(page, 'html.parser', from_encoding=\"utf-8\")\n",
    "    post_path = soup.find(\"a\", class_=\"linkDown\").get_attribute_list(key=\"href\")[0]\n",
    "    name = post_path.split(\"?MOD=\")[0].split(\"/\")[-1]\n",
    "    response = requests.get(prefix_url+post_path)\n",
    "\n",
    "    if response.status_code == 200:\n",
    "        with open(f\"thue_ttcn/{name}\", \"wb\") as f:\n",
    "            f.write(response.content)\n",
    "            f.close()\n",
    "        print(\"File downloaded successfully\")\n",
    "    else:\n",
    "        print(\"Failed to download file\")\n",
    "        return\n",
    "    \n",
    "    table = soup.find(\"table\", id=\"detail_legal\")\n",
    "    elements = table.find_all(\"td\")\n",
    "    metadata = {element1: element2.text.strip() for element1, element2 in zip(metadata_keys, elements[1::2])}\n",
    "    \n",
    "    with open(f\"thue_ttcn/{name}.metadata.json\", \"w\", encoding=\"utf-8\") as f:\n",
    "        json.dump(metadata, f, ensure_ascii=False, indent=4)\n",
    "        f.close()\n",
    "    print(\"Save metadata file successfully\")\n",
    "    print(f\"Name: {name}\\nMetadata: {json.dumps(metadata)}\")"
   ]
  },
  {
   "cell_type": "code",
   "execution_count": 14,
   "metadata": {},
   "outputs": [],
   "source": [
    "def print_descendant_texts(tag):\n",
    "    \"\"\"\n",
    "    Get text and preprocessing đối với những url không có linkDown, hiển thị trực tiếp văn bản\n",
    "    \"\"\"\n",
    "    for child in tag.children:\n",
    "        if isinstance(child, str):\n",
    "            if len(child.split()) > 0:\n",
    "                print(\"Check: \", child.string.strip())\n",
    "        elif isinstance(child, Tag):\n",
    "            if child.name == \"p\" and child.children:\n",
    "                for sub_child in child.children:\n",
    "                    if len(sub_child.text.split()) == 0:\n",
    "                        continue\n",
    "                        # print(\"Check: \", sub_child.text, \"end\")\n",
    "                    print(\"Check: \",\" \".join(sub_child.text.strip().split()))\n",
    "            elif child.name == \"style\":\n",
    "                continue\n",
    "            else:\n",
    "                print_descendant_texts(child)\n"
   ]
  },
  {
   "cell_type": "code",
   "execution_count": 78,
   "metadata": {},
   "outputs": [],
   "source": [
    "def get_data_from_table_tag(table_tag):\n",
    "    \"\"\"\n",
    "    Lấy dữ liệu từng cell trong table tag\n",
    "    \"\"\"\n",
    "    # location = {}\n",
    "    table_data = []\n",
    "    # max_merged_cell = 0\n",
    "    for row_id, row in enumerate(table_tag.find_all(\"tr\")):\n",
    "        row_data = []\n",
    "        for col_id, data in enumerate(row.find_all(\"td\")):\n",
    "            if \"colspan\" in data.attrs.keys():\n",
    "                merged_cell_num = data.attrs['colspan']\n",
    "                # if int(merged_cell_num) > max_merged_cell:\n",
    "                #     max_merged_cell = merged_cell_num\n",
    "                #     location[\"row_index\"] = row_id\n",
    "                #     location[\"column_index\"] = col_id\n",
    "                for i in range(int(merged_cell_num)):\n",
    "                    row_data.append(\" \".join(data.text.replace(\"\\n\", \"\").split()))\n",
    "            else:\n",
    "                row_data.append(\" \".join(data.text.replace(\"\\n\", \"\").split()))\n",
    "        table_data.append(row_data)\n",
    "    return np.array(table_data)"
   ]
  },
  {
   "cell_type": "code",
   "execution_count": 85,
   "metadata": {},
   "outputs": [],
   "source": [
    "def convert_table_data_to_markdown_format(table_data):\n",
    "    len_table_data = np.char.str_len(table_data)\n",
    "\n",
    "    # max len cho từng column\n",
    "    max_len_table_data = len_table_data.max(axis=0)\n",
    "\n",
    "    # length lớn nhất của element đã được thêm khoảng trắng cho từng column\n",
    "    max_spaces = max_len_table_data + 4\n",
    "    \n",
    "    content = \"\"\"\"\"\"\n",
    "    count = 1\n",
    "    \n",
    "    for row, len in zip(table_data, len_table_data):    \n",
    "        content += \"|\"\n",
    "        for element, len_element, max_len in zip(row, len, max_len_table_data):\n",
    "            # Khoảng trắng cần thêm vào\n",
    "            align_space = (max_len-len_element)/2\n",
    "\n",
    "            if np.round(align_space) == align_space:\n",
    "                left_space, right_space = int(align_space), int(align_space)\n",
    "            else:\n",
    "                left_space, right_space = int(align_space+1), int(align_space)\n",
    "            \n",
    "            content += \" \" * left_space + element + \" \" * right_space + \"|\"\n",
    "        content += \"\"\"\\n\"\"\"\n",
    "        \n",
    "        if count == 1:\n",
    "            content += \"|\"\n",
    "            for max_len in max_len_table_data:\n",
    "                content += (\"-\" * max_len) + \"|\"\n",
    "            content += \"\\n\"\n",
    "        \n",
    "        count += 1\n",
    "    return content"
   ]
  },
  {
   "cell_type": "code",
   "execution_count": 86,
   "metadata": {},
   "outputs": [
    {
     "data": {
      "text/plain": [
       "<table border=\"1\" cellpadding=\"0\" cellspacing=\"0\" class=\"MsoNormalTable\" style=\"border-collapse: collapse; border: medium none; margin-left: 12.5pt\">\n",
       "<tr>\n",
       "<td style=\"width: 46.6pt; border: 1pt solid blue; padding-left: 5.4pt; padding-right: 5.4pt; padding-top: 0in; padding-bottom: 0in\" valign=\"top\" width=\"62\">\n",
       "<p align=\"center\" class=\"MsoNormal\" style=\"TEXT-INDENT: 0in; TEXT-ALIGN: center\">\n",
       "<b><span style=\"font-family: Arial\"><font size=\"2\">Bậc</font></span></b></p></td>\n",
       "<td colspan=\"2\" style=\"width: 123.85pt; border-left: medium none; border-right: 1pt solid blue; border-top: 1pt solid blue; border-bottom: 1pt solid blue; padding-left: 5.4pt; padding-right: 5.4pt; padding-top: 0in; padding-bottom: 0in\" valign=\"top\" width=\"165\">\n",
       "<p align=\"center\" class=\"MsoNormal\" style=\"TEXT-INDENT: 0in; TEXT-ALIGN: center\">\n",
       "<b><span style=\"font-family: Arial\"><font size=\"2\">Thu nhập \n",
       "      bình quân</font></span></b></p>\n",
       "<p align=\"center\" class=\"MsoNormal\" style=\"TEXT-INDENT: 0in; TEXT-ALIGN: center\">\n",
       "<b><span style=\"font-family: Arial\"><font size=\"2\">tháng/người</font></span></b></p></td>\n",
       "<td style=\"width: 110.95pt; border-left: medium none; border-right: 1pt solid blue; border-top: 1pt solid blue; border-bottom: 1pt solid blue; padding-left: 5.4pt; padding-right: 5.4pt; padding-top: 0in; padding-bottom: 0in\" valign=\"top\" width=\"148\">\n",
       "<p align=\"center\" class=\"MsoNormal\" style=\"TEXT-INDENT: 0in; TEXT-ALIGN: center\">\n",
       "<b><span style=\"font-family: Arial\"><font size=\"2\">Thuế suất</font></span></b></p></td>\n",
       "<td style=\"width: 142.1pt; border-left: medium none; border-right: 1pt solid blue; border-top: 1pt solid blue; border-bottom: 1pt solid blue; padding-left: 5.4pt; padding-right: 5.4pt; padding-top: 0in; padding-bottom: 0in\" valign=\"top\" width=\"189\">\n",
       "<p align=\"center\" class=\"MsoNormal\" style=\"TEXT-INDENT: 0in; TEXT-ALIGN: center\">\n",
       "<b><span style=\"font-family: Arial\"><font size=\"2\">Số thuế \n",
       "      phải nộp</font></span></b></p></td>\n",
       "</tr>\n",
       "<tr>\n",
       "<td style=\"width: 46.6pt; border-left: 1pt solid blue; border-right: 1pt solid blue; border-top: medium none; border-bottom: 1pt solid blue; padding-left: 5.4pt; padding-right: 5.4pt; padding-top: 0in; padding-bottom: 0in\" valign=\"top\" width=\"62\">\n",
       "<p align=\"center\" class=\"MsoNormal\" style=\"TEXT-INDENT: 0in; TEXT-ALIGN: center\">\n",
       "<span style=\"font-family: Arial\"><font size=\"2\">1</font></span></p></td>\n",
       "<td style=\"width: 61.9pt; border-left: medium none; border-right: 1pt solid blue; border-top: medium none; border-bottom: 1pt solid blue; padding-left: 5.4pt; padding-right: 5.4pt; padding-top: 0in; padding-bottom: 0in\" valign=\"top\" width=\"83\">\n",
       "<p class=\"MsoNormal\" style=\"TEXT-INDENT: 0in\">\n",
       "<span style=\"font-family: Arial\"><font size=\"2\"> </font></span></p></td>\n",
       "<td style=\"width: 61.9pt; border-left: medium none; border-right: 1pt solid blue; border-top: medium none; border-bottom: 1pt solid blue; padding-left: 5.4pt; padding-right: 5.4pt; padding-top: 0in; padding-bottom: 0in\" valign=\"top\" width=\"83\">\n",
       "<p class=\"MsoNormal\" style=\"TEXT-INDENT: 0in\">\n",
       "<span style=\"font-family: Arial\"><font size=\"2\">Đến  1.200</font></span></p></td>\n",
       "<td style=\"width: 111pt; border-left: medium none; border-right: 1pt solid blue; border-top: medium none; border-bottom: 1pt solid blue; padding-left: 5.4pt; padding-right: 5.4pt; padding-top: 0in; padding-bottom: 0in\" valign=\"top\" width=\"148\">\n",
       "<p align=\"center\" class=\"MsoNormal\" style=\"TEXT-INDENT: 0in; TEXT-ALIGN: center\">\n",
       "<span style=\"font-family: Arial\"><font size=\"2\">0</font></span></p></td>\n",
       "<td style=\"width: 142pt; border-left: medium none; border-right: 1pt solid blue; border-top: medium none; border-bottom: 1pt solid blue; padding-left: 5.4pt; padding-right: 5.4pt; padding-top: 0in; padding-bottom: 0in\" valign=\"top\" width=\"189\">\n",
       "<p align=\"center\" class=\"MsoNormal\" style=\"TEXT-INDENT: 0in; TEXT-ALIGN: center\">\n",
       "<span style=\"font-family: Arial\"><font size=\"2\">0</font></span></p></td>\n",
       "</tr>\n",
       "<tr>\n",
       "<td style=\"width: 46.6pt; border-left: 1pt solid blue; border-right: 1pt solid blue; border-top: medium none; border-bottom: 1pt solid blue; padding-left: 5.4pt; padding-right: 5.4pt; padding-top: 0in; padding-bottom: 0in\" valign=\"top\" width=\"62\">\n",
       "<p align=\"center\" class=\"MsoNormal\" style=\"TEXT-INDENT: 0in; TEXT-ALIGN: center\">\n",
       "<span style=\"font-family: Arial\"><font size=\"2\">2</font></span></p></td>\n",
       "<td style=\"width: 61.9pt; border-left: medium none; border-right: 1pt solid blue; border-top: medium none; border-bottom: 1pt solid blue; padding-left: 5.4pt; padding-right: 5.4pt; padding-top: 0in; padding-bottom: 0in\" valign=\"top\" width=\"83\">\n",
       "<p class=\"MsoNormal\" style=\"TEXT-INDENT: 0in\">\n",
       "<span style=\"font-family: Arial\"><font size=\"2\">Trên  1.200</font></span></p></td>\n",
       "<td style=\"width: 61.9pt; border-left: medium none; border-right: 1pt solid blue; border-top: medium none; border-bottom: 1pt solid blue; padding-left: 5.4pt; padding-right: 5.4pt; padding-top: 0in; padding-bottom: 0in\" valign=\"top\" width=\"83\">\n",
       "<p class=\"MsoNormal\" style=\"TEXT-INDENT: 0in\">\n",
       "<span style=\"font-family: Arial\"><font size=\"2\">đến   2.000</font></span></p></td>\n",
       "<td style=\"width: 111pt; border-left: medium none; border-right: 1pt solid blue; border-top: medium none; border-bottom: 1pt solid blue; padding-left: 5.4pt; padding-right: 5.4pt; padding-top: 0in; padding-bottom: 0in\" valign=\"top\" width=\"148\">\n",
       "<p align=\"center\" class=\"MsoNormal\" style=\"TEXT-INDENT: 0in; TEXT-ALIGN: center\">\n",
       "<span style=\"font-family: Arial\"><font size=\"2\">10%</font></span></p></td>\n",
       "<td style=\"width: 142pt; border-left: medium none; border-right: 1pt solid blue; border-top: medium none; border-bottom: 1pt solid blue; padding-left: 5.4pt; padding-right: 5.4pt; padding-top: 0in; padding-bottom: 0in\" valign=\"top\" width=\"189\">\n",
       "<p align=\"center\" class=\"MsoNormal\" style=\"TEXT-INDENT: 0in; TEXT-ALIGN: center\">\n",
       "<span style=\"font-family: Arial\"><font size=\"2\">TNCT x 10% \n",
       "      -         120</font></span></p></td>\n",
       "</tr>\n",
       "<tr>\n",
       "<td style=\"width: 46.6pt; border-left: 1pt solid blue; border-right: 1pt solid blue; border-top: medium none; border-bottom: 1pt solid blue; padding-left: 5.4pt; padding-right: 5.4pt; padding-top: 0in; padding-bottom: 0in\" valign=\"top\" width=\"62\">\n",
       "<p align=\"center\" class=\"MsoNormal\" style=\"TEXT-INDENT: 0in; TEXT-ALIGN: center\">\n",
       "<span style=\"font-family: Arial\"><font size=\"2\">3</font></span></p></td>\n",
       "<td style=\"width: 61.9pt; border-left: medium none; border-right: 1pt solid blue; border-top: medium none; border-bottom: 1pt solid blue; padding-left: 5.4pt; padding-right: 5.4pt; padding-top: 0in; padding-bottom: 0in\" valign=\"top\" width=\"83\">\n",
       "<p class=\"MsoNormal\" style=\"TEXT-INDENT: 0in\">\n",
       "<span style=\"font-family: Arial\"><font size=\"2\">Trên  2.000</font></span></p></td>\n",
       "<td style=\"width: 61.9pt; border-left: medium none; border-right: 1pt solid blue; border-top: medium none; border-bottom: 1pt solid blue; padding-left: 5.4pt; padding-right: 5.4pt; padding-top: 0in; padding-bottom: 0in\" valign=\"top\" width=\"83\">\n",
       "<p class=\"MsoNormal\" style=\"TEXT-INDENT: 0in\">\n",
       "<span style=\"font-family: Arial\"><font size=\"2\">đến   3.000</font></span></p></td>\n",
       "<td style=\"width: 111pt; border-left: medium none; border-right: 1pt solid blue; border-top: medium none; border-bottom: 1pt solid blue; padding-left: 5.4pt; padding-right: 5.4pt; padding-top: 0in; padding-bottom: 0in\" valign=\"top\" width=\"148\">\n",
       "<p align=\"center\" class=\"MsoNormal\" style=\"TEXT-INDENT: 0in; TEXT-ALIGN: center\">\n",
       "<span style=\"font-family: Arial\"><font size=\"2\">20%</font></span></p></td>\n",
       "<td style=\"width: 142pt; border-left: medium none; border-right: 1pt solid blue; border-top: medium none; border-bottom: 1pt solid blue; padding-left: 5.4pt; padding-right: 5.4pt; padding-top: 0in; padding-bottom: 0in\" valign=\"top\" width=\"189\">\n",
       "<p align=\"center\" class=\"MsoNormal\" style=\"TEXT-INDENT: 0in; TEXT-ALIGN: center\">\n",
       "<span style=\"font-family: Arial\"><font size=\"2\">TNCT x 20% \n",
       "      -          320</font></span></p></td>\n",
       "</tr>\n",
       "<tr>\n",
       "<td style=\"width: 46.6pt; border-left: 1pt solid blue; border-right: 1pt solid blue; border-top: medium none; border-bottom: 1pt solid blue; padding-left: 5.4pt; padding-right: 5.4pt; padding-top: 0in; padding-bottom: 0in\" valign=\"top\" width=\"62\">\n",
       "<p align=\"center\" class=\"MsoNormal\" style=\"TEXT-INDENT: 0in; TEXT-ALIGN: center\">\n",
       "<span style=\"font-family: Arial\"><font size=\"2\">4</font></span></p></td>\n",
       "<td style=\"width: 61.9pt; border-left: medium none; border-right: 1pt solid blue; border-top: medium none; border-bottom: 1pt solid blue; padding-left: 5.4pt; padding-right: 5.4pt; padding-top: 0in; padding-bottom: 0in\" valign=\"top\" width=\"83\">\n",
       "<p class=\"MsoNormal\" style=\"TEXT-INDENT: 0in\">\n",
       "<span style=\"font-family: Arial\"><font size=\"2\">Trên  3.000</font></span></p></td>\n",
       "<td style=\"width: 61.9pt; border-left: medium none; border-right: 1pt solid blue; border-top: medium none; border-bottom: 1pt solid blue; padding-left: 5.4pt; padding-right: 5.4pt; padding-top: 0in; padding-bottom: 0in\" valign=\"top\" width=\"83\">\n",
       "<p class=\"MsoNormal\" style=\"TEXT-INDENT: 0in\">\n",
       "<span style=\"font-family: Arial\"><font size=\"2\">đến   4.000</font></span></p></td>\n",
       "<td style=\"width: 111pt; border-left: medium none; border-right: 1pt solid blue; border-top: medium none; border-bottom: 1pt solid blue; padding-left: 5.4pt; padding-right: 5.4pt; padding-top: 0in; padding-bottom: 0in\" valign=\"top\" width=\"148\">\n",
       "<p align=\"center\" class=\"MsoNormal\" style=\"TEXT-INDENT: 0in; TEXT-ALIGN: center\">\n",
       "<span style=\"font-family: Arial\"><font size=\"2\">30%</font></span></p></td>\n",
       "<td style=\"width: 142pt; border-left: medium none; border-right: 1pt solid blue; border-top: medium none; border-bottom: 1pt solid blue; padding-left: 5.4pt; padding-right: 5.4pt; padding-top: 0in; padding-bottom: 0in\" valign=\"top\" width=\"189\">\n",
       "<p align=\"center\" class=\"MsoNormal\" style=\"TEXT-INDENT: 0in; TEXT-ALIGN: center\">\n",
       "<span style=\"font-family: Arial\"><font size=\"2\">TNCT x 30% \n",
       "      -          620</font></span></p></td>\n",
       "</tr>\n",
       "<tr>\n",
       "<td style=\"width: 46.6pt; border-left: 1pt solid blue; border-right: 1pt solid blue; border-top: medium none; border-bottom: 1pt solid blue; padding-left: 5.4pt; padding-right: 5.4pt; padding-top: 0in; padding-bottom: 0in\" valign=\"top\" width=\"62\">\n",
       "<p align=\"center\" class=\"MsoNormal\" style=\"TEXT-INDENT: 0in; TEXT-ALIGN: center\">\n",
       "<span style=\"font-family: Arial\"><font size=\"2\">5</font></span></p></td>\n",
       "<td style=\"width: 61.9pt; border-left: medium none; border-right: 1pt solid blue; border-top: medium none; border-bottom: 1pt solid blue; padding-left: 5.4pt; padding-right: 5.4pt; padding-top: 0in; padding-bottom: 0in\" valign=\"top\" width=\"83\">\n",
       "<p class=\"MsoNormal\" style=\"TEXT-INDENT: 0in\">\n",
       "<span style=\"font-family: Arial\"><font size=\"2\">Trên  4.000</font></span></p></td>\n",
       "<td style=\"width: 61.9pt; border-left: medium none; border-right: 1pt solid blue; border-top: medium none; border-bottom: 1pt solid blue; padding-left: 5.4pt; padding-right: 5.4pt; padding-top: 0in; padding-bottom: 0in\" valign=\"top\" width=\"83\">\n",
       "<p class=\"MsoNormal\" style=\"TEXT-INDENT: 0in\">\n",
       "<span style=\"font-family: Arial\"><font size=\"2\">đến   6.000</font></span></p></td>\n",
       "<td style=\"width: 111pt; border-left: medium none; border-right: 1pt solid blue; border-top: medium none; border-bottom: 1pt solid blue; padding-left: 5.4pt; padding-right: 5.4pt; padding-top: 0in; padding-bottom: 0in\" valign=\"top\" width=\"148\">\n",
       "<p align=\"center\" class=\"MsoNormal\" style=\"TEXT-INDENT: 0in; TEXT-ALIGN: center\">\n",
       "<span style=\"font-family: Arial\"><font size=\"2\">40%</font></span></p></td>\n",
       "<td style=\"width: 142pt; border-left: medium none; border-right: 1pt solid blue; border-top: medium none; border-bottom: 1pt solid blue; padding-left: 5.4pt; padding-right: 5.4pt; padding-top: 0in; padding-bottom: 0in\" valign=\"top\" width=\"189\">\n",
       "<p align=\"center\" class=\"MsoNormal\" style=\"TEXT-INDENT: 0in; TEXT-ALIGN: center\">\n",
       "<span style=\"font-family: Arial\"><font size=\"2\">TNCT x 40% \n",
       "      -        1.020  </font> </span></p></td>\n",
       "</tr>\n",
       "<tr>\n",
       "<td style=\"width: 46.6pt; border-left: 1pt solid blue; border-right: 1pt solid blue; border-top: medium none; border-bottom: 1pt solid blue; padding-left: 5.4pt; padding-right: 5.4pt; padding-top: 0in; padding-bottom: 0in\" valign=\"top\" width=\"62\">\n",
       "<p align=\"center\" class=\"MsoNormal\" style=\"TEXT-INDENT: 0in; TEXT-ALIGN: center\">\n",
       "<span style=\"font-family: Arial\"><font size=\"2\">6</font></span></p></td>\n",
       "<td style=\"width: 61.9pt; border-left: medium none; border-right: 1pt solid blue; border-top: medium none; border-bottom: 1pt solid blue; padding-left: 5.4pt; padding-right: 5.4pt; padding-top: 0in; padding-bottom: 0in\" valign=\"top\" width=\"83\">\n",
       "<p class=\"MsoNormal\" style=\"TEXT-INDENT: 0in\">\n",
       "<span style=\"font-family: Arial\"><font size=\"2\">Trên  6.000</font></span></p></td>\n",
       "<td style=\"width: 61.9pt; border-left: medium none; border-right: 1pt solid blue; border-top: medium none; border-bottom: 1pt solid blue; padding-left: 5.4pt; padding-right: 5.4pt; padding-top: 0in; padding-bottom: 0in\" valign=\"top\" width=\"83\">\n",
       "<p class=\"MsoNormal\" style=\"TEXT-INDENT: 0in\">\n",
       "<span style=\"font-family: Arial\"><font size=\"2\">đến   8.000</font></span></p></td>\n",
       "<td style=\"width: 111pt; border-left: medium none; border-right: 1pt solid blue; border-top: medium none; border-bottom: 1pt solid blue; padding-left: 5.4pt; padding-right: 5.4pt; padding-top: 0in; padding-bottom: 0in\" valign=\"top\" width=\"148\">\n",
       "<p align=\"center\" class=\"MsoNormal\" style=\"TEXT-INDENT: 0in; TEXT-ALIGN: center\">\n",
       "<span style=\"font-family: Arial\"><font size=\"2\">50%</font></span></p></td>\n",
       "<td style=\"width: 142pt; border-left: medium none; border-right: 1pt solid blue; border-top: medium none; border-bottom: 1pt solid blue; padding-left: 5.4pt; padding-right: 5.4pt; padding-top: 0in; padding-bottom: 0in\" valign=\"top\" width=\"189\">\n",
       "<p align=\"center\" class=\"MsoNormal\" style=\"TEXT-INDENT: 0in; TEXT-ALIGN: center\">\n",
       "<span style=\"font-family: Arial\"><font size=\"2\">TNCT x 50% \n",
       "      -        1.620</font></span></p></td>\n",
       "</tr>\n",
       "<tr>\n",
       "<td style=\"width: 46.6pt; border-left: 1pt solid blue; border-right: 1pt solid blue; border-top: medium none; border-bottom: 1pt solid blue; padding-left: 5.4pt; padding-right: 5.4pt; padding-top: 0in; padding-bottom: 0in\" valign=\"top\" width=\"62\">\n",
       "<p align=\"center\" class=\"MsoNormal\" style=\"TEXT-INDENT: 0in; TEXT-ALIGN: center\">\n",
       "<span style=\"font-family: Arial\"><font size=\"2\">7</font></span></p></td>\n",
       "<td style=\"width: 61.9pt; border-left: medium none; border-right: 1pt solid blue; border-top: medium none; border-bottom: 1pt solid blue; padding-left: 5.4pt; padding-right: 5.4pt; padding-top: 0in; padding-bottom: 0in\" valign=\"top\" width=\"83\">\n",
       "<p class=\"MsoNormal\" style=\"TEXT-INDENT: 0in\">\n",
       "<span style=\"font-family: Arial\"><font size=\"2\">Trên  8.000</font></span></p></td>\n",
       "<td style=\"width: 61.9pt; border-left: medium none; border-right: 1pt solid blue; border-top: medium none; border-bottom: 1pt solid blue; padding-left: 5.4pt; padding-right: 5.4pt; padding-top: 0in; padding-bottom: 0in\" valign=\"top\" width=\"83\">\n",
       "<p class=\"MsoNormal\" style=\"TEXT-INDENT: 0in\">\n",
       "<span style=\"font-family: Arial\"><font size=\"2\"> </font></span></p></td>\n",
       "<td style=\"width: 111pt; border-left: medium none; border-right: 1pt solid blue; border-top: medium none; border-bottom: 1pt solid blue; padding-left: 5.4pt; padding-right: 5.4pt; padding-top: 0in; padding-bottom: 0in\" valign=\"top\" width=\"148\">\n",
       "<p align=\"center\" class=\"MsoNormal\" style=\"TEXT-INDENT: 0in; TEXT-ALIGN: center\">\n",
       "<span style=\"font-family: Arial\"><font size=\"2\">60%</font></span></p></td>\n",
       "<td style=\"width: 142pt; border-left: medium none; border-right: 1pt solid blue; border-top: medium none; border-bottom: 1pt solid blue; padding-left: 5.4pt; padding-right: 5.4pt; padding-top: 0in; padding-bottom: 0in\" valign=\"top\" width=\"189\">\n",
       "<p align=\"center\" class=\"MsoNormal\" style=\"TEXT-INDENT: 0in; TEXT-ALIGN: center\">\n",
       "<span style=\"font-family: Arial\"><font size=\"2\">TNCT x 60% \n",
       "      -        2.420</font></span></p></td>\n",
       "</tr>\n",
       "</table>"
      ]
     },
     "execution_count": 86,
     "metadata": {},
     "output_type": "execute_result"
    }
   ],
   "source": [
    "table = soup.find(\"table\", class_=\"MsoNormalTable\")\n",
    "table"
   ]
  },
  {
   "cell_type": "code",
   "execution_count": 87,
   "metadata": {},
   "outputs": [],
   "source": [
    "table_data = get_data_from_table_tag(table)\n",
    "table_markdown_format = convert_table_data_to_markdown_format(table_data)"
   ]
  },
  {
   "cell_type": "code",
   "execution_count": 89,
   "metadata": {},
   "outputs": [
    {
     "data": {
      "text/plain": [
       "'|Bậc|Thu nhập bình quântháng/người|Thu nhập bình quântháng/người|Thuế suất| Số thuế phải nộp |\\n|---|-----------------------------|-----------------------------|---------|------------------|\\n| 1 |                             |          Đến 1.200          |    0    |         0        |\\n| 2 |          Trên 1.200         |          đến 2.000          |   10%   | TNCT x 10% - 120 |\\n| 3 |          Trên 2.000         |          đến 3.000          |   20%   | TNCT x 20% - 320 |\\n| 4 |          Trên 3.000         |          đến 4.000          |   30%   | TNCT x 30% - 620 |\\n| 5 |          Trên 4.000         |          đến 6.000          |   40%   |TNCT x 40% - 1.020|\\n| 6 |          Trên 6.000         |          đến 8.000          |   50%   |TNCT x 50% - 1.620|\\n| 7 |          Trên 8.000         |                             |   60%   |TNCT x 60% - 2.420|\\n'"
      ]
     },
     "execution_count": 89,
     "metadata": {},
     "output_type": "execute_result"
    }
   ],
   "source": [
    "table_markdown_format"
   ]
  },
  {
   "cell_type": "code",
   "execution_count": 96,
   "metadata": {},
   "outputs": [],
   "source": [
    "with open(\"preview.txt\", \"+a\") as f:\n",
    "    f.write(table_markdown_format+\"!!!!\")\n",
    "    f.close()"
   ]
  },
  {
   "cell_type": "code",
   "execution_count": 97,
   "metadata": {},
   "outputs": [
    {
     "ename": "AttributeError",
     "evalue": "'NoneType' object has no attribute 'get_attribute_list'",
     "output_type": "error",
     "traceback": [
      "\u001b[0;31m---------------------------------------------------------------------------\u001b[0m",
      "\u001b[0;31mAttributeError\u001b[0m                            Traceback (most recent call last)",
      "Cell \u001b[0;32mIn[97], line 2\u001b[0m\n\u001b[1;32m      1\u001b[0m url \u001b[38;5;241m=\u001b[39m \u001b[38;5;124m\"\u001b[39m\u001b[38;5;124mhttps://www.gdt.gov.vn/wps/portal?1dmy&mapping=home/documents/detail&urile=wcm\u001b[39m\u001b[38;5;132;01m%3a\u001b[39;00m\u001b[38;5;124mpath\u001b[39m\u001b[38;5;132;01m%3a\u001b[39;00m\u001b[38;5;124m/GDT\u001b[39m\u001b[38;5;124m%\u001b[39m\u001b[38;5;124m20Content/sa_gdt/sa_vanban/vbhd/vbhd_tct/legal_100019_122739\u001b[39m\u001b[38;5;124m\"\u001b[39m\n\u001b[0;32m----> 2\u001b[0m \u001b[43mget_file_and_metadata\u001b[49m\u001b[43m(\u001b[49m\u001b[43murl\u001b[49m\u001b[43m)\u001b[49m\n",
      "Cell \u001b[0;32mIn[3], line 7\u001b[0m, in \u001b[0;36mget_file_and_metadata\u001b[0;34m(url)\u001b[0m\n\u001b[1;32m      5\u001b[0m page \u001b[38;5;241m=\u001b[39m request\u001b[38;5;241m.\u001b[39murlopen(url)\n\u001b[1;32m      6\u001b[0m soup \u001b[38;5;241m=\u001b[39m BeautifulSoup(page, \u001b[38;5;124m'\u001b[39m\u001b[38;5;124mhtml.parser\u001b[39m\u001b[38;5;124m'\u001b[39m, from_encoding\u001b[38;5;241m=\u001b[39m\u001b[38;5;124m\"\u001b[39m\u001b[38;5;124mutf-8\u001b[39m\u001b[38;5;124m\"\u001b[39m)\n\u001b[0;32m----> 7\u001b[0m post_path \u001b[38;5;241m=\u001b[39m \u001b[43msoup\u001b[49m\u001b[38;5;241;43m.\u001b[39;49m\u001b[43mfind\u001b[49m\u001b[43m(\u001b[49m\u001b[38;5;124;43m\"\u001b[39;49m\u001b[38;5;124;43ma\u001b[39;49m\u001b[38;5;124;43m\"\u001b[39;49m\u001b[43m,\u001b[49m\u001b[43m \u001b[49m\u001b[43mclass_\u001b[49m\u001b[38;5;241;43m=\u001b[39;49m\u001b[38;5;124;43m\"\u001b[39;49m\u001b[38;5;124;43mlinkDown\u001b[39;49m\u001b[38;5;124;43m\"\u001b[39;49m\u001b[43m)\u001b[49m\u001b[38;5;241;43m.\u001b[39;49m\u001b[43mget_attribute_list\u001b[49m(key\u001b[38;5;241m=\u001b[39m\u001b[38;5;124m\"\u001b[39m\u001b[38;5;124mhref\u001b[39m\u001b[38;5;124m\"\u001b[39m)[\u001b[38;5;241m0\u001b[39m]\n\u001b[1;32m      8\u001b[0m name \u001b[38;5;241m=\u001b[39m post_path\u001b[38;5;241m.\u001b[39msplit(\u001b[38;5;124m\"\u001b[39m\u001b[38;5;124m?MOD=\u001b[39m\u001b[38;5;124m\"\u001b[39m)[\u001b[38;5;241m0\u001b[39m]\u001b[38;5;241m.\u001b[39msplit(\u001b[38;5;124m\"\u001b[39m\u001b[38;5;124m/\u001b[39m\u001b[38;5;124m\"\u001b[39m)[\u001b[38;5;241m-\u001b[39m\u001b[38;5;241m1\u001b[39m]\n\u001b[1;32m      9\u001b[0m response \u001b[38;5;241m=\u001b[39m requests\u001b[38;5;241m.\u001b[39mget(prefix_url\u001b[38;5;241m+\u001b[39mpost_path)\n",
      "\u001b[0;31mAttributeError\u001b[0m: 'NoneType' object has no attribute 'get_attribute_list'"
     ]
    }
   ],
   "source": [
    "url = \"https://www.gdt.gov.vn/wps/portal?1dmy&mapping=home/documents/detail&urile=wcm%3apath%3a/GDT%20Content/sa_gdt/sa_vanban/vbhd/vbhd_tct/legal_100019_122739\"\n",
    "get_file_and_metadata(url)"
   ]
  }
 ],
 "metadata": {
  "kernelspec": {
   "display_name": "cmc-agent",
   "language": "python",
   "name": "python3"
  },
  "language_info": {
   "codemirror_mode": {
    "name": "ipython",
    "version": 3
   },
   "file_extension": ".py",
   "mimetype": "text/x-python",
   "name": "python",
   "nbconvert_exporter": "python",
   "pygments_lexer": "ipython3",
   "version": "3.9.21"
  }
 },
 "nbformat": 4,
 "nbformat_minor": 2
}
