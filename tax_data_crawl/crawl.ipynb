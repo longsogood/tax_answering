{
 "cells": [
  {
   "cell_type": "code",
   "execution_count": 1,
   "metadata": {},
   "outputs": [],
   "source": [
    "from utils import *\n",
    "from selenium import webdriver\n",
    "import htmltabletomd\n",
    "from markdownify import markdownify as md"
   ]
  },
  {
   "cell_type": "code",
   "execution_count": 2,
   "metadata": {},
   "outputs": [],
   "source": [
    "urls = [\"https://www.gdt.gov.vn/wps/portal?1dmy&mapping=home/documents/detail&urile=wcm%3apath%3a/GDT%20Content/sa_gdt/sa_vanban/vbhd/vbhd_tct/2014-12/35cb107f-9b26-4750-a1f9-7c3d24f4f92b\",\n",
    "        \"https://www.gdt.gov.vn/wps/portal?1dmy&mapping=home/documents/detail&urile=wcm%3apath%3a/GDT%20Content/sa_gdt/sa_vanban/vbhd/vbhd_tct/2014-12/82704079-a302-49f3-96d3-0c90f6346f60\",\n",
    "        \"https://www.gdt.gov.vn/wps/portal?1dmy&mapping=home/documents/detail&urile=wcm%3apath%3a/GDT%20Content/sa_gdt/sa_vanban/vbhd/vbhd_tct/legal_100019_122311\",\n",
    "        \"https://www.gdt.gov.vn/wps/portal?1dmy&mapping=home/documents/detail&urile=wcm%3apath%3a/GDT%20Content/sa_gdt/sa_vanban/sa_vanbanphapquy/vanban_thongtu/legal_100017_121320\"]"
   ]
  },
  {
   "cell_type": "code",
   "execution_count": null,
   "metadata": {},
   "outputs": [],
   "source": [
    "soup = get_content_url(\"https://www.gdt.gov.vn/wps/portal/!ut/p/z1/tVLBcoIwFPyVevDI5IWkAkekjqCo43SKkguTKAVaCNhGWvv1DdpDL9bpOObyspP3djdvFjG0Rkzytsi4KmrJS41jNki85dSLphEAOPcmBLNR9BC6A1hgQBFiiG2kalSO4myr7ja1VKlUfXjnicbH2nIpuPx1bXLe7PaHPpxgovJaZmrfhzLNeJlgrYStBJuYmNAJNJtii2Li2FQIahrcTlODgg0GpyY3BBHCopbtWNrQ6pJjpp_hzHG7eXZs8cauT60QwKZjgIAOF3PfW2IIyE_DHxyx9mCd9eCbaNUW6Qd6kvVbpZf8-M8v-hcV8JUKF-jJTekduJJ-glhW1uIU3-Jlt2OuzmiXy0-F1rcJaVNVNjkYr8-zEaHxpP0azo2uhG6v9w1FhbQM/dz/d5/L2dBISEvZ0FBIS9nQSEh/\")\n",
    "panes = get_content_panes(soup)\n",
    "downloadTag = soup.find(\"a\", class_=\"linkDown\")\n",
    "if downloadTag:\n",
    "    get_file(soup)\n",
    "    get_metadata(soup)\n",
    "else:\n",
    "    content = get_descendant_texts(panes[0])\n",
    "    with open(\"thue_ttcn/preview.text\", \"w\") as f:\n",
    "        f.write(content)\n",
    "        f.close()"
   ]
  },
  {
   "cell_type": "code",
   "execution_count": 3,
   "metadata": {},
   "outputs": [],
   "source": [
    "url = \"https://www.gdt.gov.vn/wps/portal/!ut/p/z1/tVLLbsIwEPyVcuAY7To2eRxDighvoaqB-BI5IQ1pgxNakxa-vgZ66IWiCuHLeuT1zKw9wGEJXIqmyIUqKilKjSNuxf585IejEBHdjomDSS98HHsWzghCCBx4KlWt1hDlK_WQVlJlUrXxQ8Qan2ojZCLkr229FvV2t2_jGcZqXclc7dpYZrkoY6KViB0Tk1AXjwJ1WqwgMl07JYmwjY7JmME6rmUkKXUM17EcJqiJlp3B4ppjro_xwvJQ3-enFr_vBcweIzqsjzhg3dk08OcEB_Sn4Q-OSHuwL3oITFg0RfYJz7J63-hHfvrniMFVBXKjwhV6eld6_eW30Q-B52WVnONbvG633NMZPebyS8HyPiGtNxuH7o23l0mPsmjYHLpT41jGXqv1DW-Jzco!/dz/d5/L2dBISEvZ0FBIS9nQSEh/\"\n",
    "soup = get_content_url(url)\n",
    "panes = get_content_panes(soup)"
   ]
  },
  {
   "cell_type": "code",
   "execution_count": 4,
   "metadata": {},
   "outputs": [],
   "source": [
    "tables = panes[0].find_all(\"table\")"
   ]
  },
  {
   "cell_type": "code",
   "execution_count": null,
   "metadata": {},
   "outputs": [],
   "source": [
    "def table_preprocess(table_tag):\n",
    "    # tr\n",
    "    for element in table_tag.find_all(\"tr\"):\n",
    "        # th or td\n",
    "        for sub_element in element.children:\n",
    "            "
   ]
  },
  {
   "cell_type": "code",
   "execution_count": 10,
   "metadata": {},
   "outputs": [],
   "source": [
    "html_table = \"\"\"\n",
    "<table class=\"MsoNormalTable\" style=\"border-collapse: collapse; border: medium none\" cellspacing=\"0\" cellpadding=\"0\" border=\"1\">\n",
    "  <thead>\n",
    "  <tr>\n",
    "    <td style=\"width: 40.85pt; border-left: 1pt solid blue; border-right: 1pt solid blue; border-top: 1pt solid blue; border-bottom: medium none; padding-left: 5.4pt; padding-right: 5.4pt; padding-top: 0in; padding-bottom: 0in\" valign=\"top\" width=\"54\">\n",
    "    <p class=\"Giua\"><span style=\"font-family: Arial\">\n",
    "    <font size=\"2\">Số </font></span></p></td>\n",
    "    <td style=\"width: 173.3pt; border-left: medium none; border-right: 1pt solid blue; border-top: 1pt solid blue; border-bottom: medium none; padding-left: 5.4pt; padding-right: 5.4pt; padding-top: 0in; padding-bottom: 0in\" valign=\"top\" width=\"231\">\n",
    "    <p class=\"Giua\"><span style=\"font-family: Arial\">\n",
    "    <font size=\"2\">&nbsp;</font></span></p></td>\n",
    "    <td style=\"width: 209.45pt; border-left: medium none; border-right: 1pt solid blue; border-top: 1pt solid blue; border-bottom: medium none; padding-left: 5.4pt; padding-right: 5.4pt; padding-top: 0in; padding-bottom: 0in\" valign=\"top\" width=\"279\" colspan=\"2\">\n",
    "    <p class=\"Giua\"><span style=\"font-family: Arial\">\n",
    "    <font size=\"2\">Phần kê khai của người nộp</font></span></p></td>\n",
    "  </tr>\n",
    "  <tr>\n",
    "    <td style=\"width: 40.8pt; border-left: 1pt solid blue; border-right: 1pt solid blue; border-top: medium none; border-bottom: 1pt solid blue; padding-left: 5.35pt; padding-right: 5.35pt; padding-top: 0in; padding-bottom: 0in\" valign=\"top\" width=\"54\">\n",
    "    <p class=\"Giua\"><span style=\"font-family: Arial\">\n",
    "    <font size=\"2\">thứ<br>\n",
    "    tự</font></span></p></td>\n",
    "    <td style=\"width: 173.3pt; border-left: medium none; border-right: 1pt solid blue; border-top: medium none; border-bottom: 1pt solid blue; padding-left: 5.35pt; padding-right: 5.35pt; padding-top: 0in; padding-bottom: 0in\" valign=\"top\" width=\"231\">\n",
    "    <p class=\"Giua\"><span style=\"font-family: Arial\">\n",
    "    <font size=\"2\">Nội dung thu nhập</font></span></p></td>\n",
    "    <td style=\"width: 106.55pt; border-left: medium none; border-right: 1pt solid blue; border-top: 1pt solid blue; border-bottom: 1pt solid blue; padding-left: 5.35pt; padding-right: 5.35pt; padding-top: 0in; padding-bottom: 0in\" valign=\"top\" width=\"142\">\n",
    "    <p class=\"Giua\"><span style=\"font-family: Arial\">\n",
    "    <font size=\"2\">Thu nhập bằng ngoại tệ, hiện vật</font></span></p></td>\n",
    "    <td style=\"width: 102.9pt; border-left: medium none; border-right: 1pt solid blue; border-top: 1pt solid blue; border-bottom: 1pt solid blue; padding-left: 5.35pt; padding-right: 5.35pt; padding-top: 0in; padding-bottom: 0in\" valign=\"top\" width=\"137\">\n",
    "    <p class=\"Giua\"><span style=\"font-family: Arial\">\n",
    "    <font size=\"2\">Quy đổi đồng<br>\n",
    "    Việt Nam </font></span></p></td>\n",
    "  </tr>\n",
    "  </thead>\n",
    "  <tbody>\n",
    "  <tr>\n",
    "    <td style=\"width: 40.8pt; border-left: 1pt solid blue; border-right: 1pt solid blue; border-top: medium none; border-bottom: 1pt solid blue; padding-left: 5.35pt; padding-right: 5.35pt; padding-top: 0in; padding-bottom: 0in\" valign=\"top\" width=\"54\">\n",
    "    <p class=\"Giua\"><span style=\"font-family: Arial\">\n",
    "    <font size=\"2\">&nbsp;</font></span></p></td>\n",
    "    <td style=\"width: 173.3pt; border-left: medium none; border-right: 1pt solid blue; border-top: medium none; border-bottom: 1pt solid blue; padding-left: 5.35pt; padding-right: 5.35pt; padding-top: 0in; padding-bottom: 0in\" valign=\"top\" width=\"231\">\n",
    "    <p class=\"Giua\" style=\"text-align: justify\">\n",
    "    <span style=\"font-family: Arial\"><font size=\"2\">- Tiền \n",
    "    lương, tiền công</font></span></p>\n",
    "    <p class=\"Giua\" style=\"text-align: justify\">\n",
    "    <span style=\"font-family: Arial\"><font size=\"2\">- Các khoản \n",
    "    khác</font></span></p>\n",
    "    <p class=\"Giua\" style=\"text-align: justify\">\n",
    "    <span style=\"font-family: Arial\"><font size=\"2\">+</font></span></p>\n",
    "    <p class=\"Giua\" style=\"text-align: justify\">\n",
    "    <span style=\"font-family: Arial\"><font size=\"2\">+ </font>\n",
    "    </span></p>\n",
    "    <p class=\"Giua\" style=\"text-align: justify\">\n",
    "    <span style=\"font-family: Arial\"><font size=\"2\">- Tổng số \n",
    "    thu nhập CT</font></span></p>\n",
    "    <p class=\"Giua\" style=\"text-align: justify\">\n",
    "    <span style=\"font-family: Arial\"><font size=\"2\">- Thuế thu \n",
    "    nhập phải nộp</font></span></p>\n",
    "    <p class=\"Giua\" style=\"text-align: justify\">\n",
    "    <span style=\"font-family: Arial\"><font size=\"2\">- Bằng chữ</font></span></p></td>\n",
    "    <td style=\"width: 106.55pt; border-left: medium none; border-right: 1pt solid blue; border-top: medium none; border-bottom: 1pt solid blue; padding-left: 5.35pt; padding-right: 5.35pt; padding-top: 0in; padding-bottom: 0in\" valign=\"top\" width=\"142\">\n",
    "    <p class=\"Giua\"><span style=\"font-family: Arial\">\n",
    "    <font size=\"2\">&nbsp;</font></span></p></td>\n",
    "    <td style=\"width: 102.9pt; border-left: medium none; border-right: 1pt solid blue; border-top: medium none; border-bottom: 1pt solid blue; padding-left: 5.35pt; padding-right: 5.35pt; padding-top: 0in; padding-bottom: 0in\" valign=\"top\" width=\"137\">\n",
    "    <p class=\"Giua\"><span style=\"font-family: Arial\">\n",
    "    <font size=\"2\">&nbsp;</font></span></p></td>\n",
    "  </tr>\n",
    "</tbody></table>\n",
    "\"\"\""
   ]
  },
  {
   "cell_type": "code",
   "execution_count": 6,
   "metadata": {},
   "outputs": [],
   "source": [
    "with open(\"thue_ttcn/markdownify_preview.text\", \"w\") as f:\n",
    "    f.write(md(html=html_table))\n",
    "    f.close()"
   ]
  },
  {
   "cell_type": "code",
   "execution_count": 7,
   "metadata": {},
   "outputs": [],
   "source": [
    "with open(\"thue_ttcn/htmltabletomd_preview.text\", \"w\") as f:\n",
    "    f.write(htmltabletomd.convert_table(html_table))\n",
    "    f.close()"
   ]
  },
  {
   "cell_type": "code",
   "execution_count": 9,
   "metadata": {},
   "outputs": [
    {
     "name": "stdout",
     "output_type": "stream",
     "text": [
      "| A | B |\n",
      "| - | ---- |\n",
      "| C | None |\n"
     ]
    }
   ],
   "source": [
    "from bs4 import BeautifulSoup\n",
    "\n",
    "def html_table_to_markdown(html_table):\n",
    "    soup = BeautifulSoup(html_table, 'html.parser')\n",
    "    table = soup.find('table')\n",
    "    if not table:\n",
    "        raise ValueError(\"No table found in the HTML.\")\n",
    "\n",
    "    rows = table.find_all('tr')\n",
    "    if not rows:\n",
    "        raise ValueError(\"No rows found in the table.\")\n",
    "\n",
    "    # Initialize the table data with None\n",
    "    num_cols = max(len(row.find_all(['td', 'th'])) for row in rows)\n",
    "    table_data = [[None for _ in range(num_cols)] for _ in range(len(rows))]\n",
    "\n",
    "    row_index = 0\n",
    "    for row in rows:\n",
    "        cells = row.find_all(['td', 'th'])\n",
    "        col_index = 0\n",
    "        for cell in cells:\n",
    "            content = cell.get_text().strip()\n",
    "            colspan = int(cell.get('colspan', 1))\n",
    "            rowspan = int(cell.get('rowspan', 1))\n",
    "\n",
    "            # Fill the current cell and handle colspan\n",
    "            for c in range(colspan):\n",
    "                table_data[row_index][col_index + c] = content\n",
    "\n",
    "            # Hand                      le rowspan by filling in subsequent rows\n",
    "            for r in range(1, rowspan):\n",
    "                for c in range(colspan):\n",
    "                    table_data[row_index + r][col_index + c] = content\n",
    "\n",
    "            col_index += colspan\n",
    "        row_index += 1\n",
    "\n",
    "    # Create the Markdown table\n",
    "    # Find the header row (assuming the first row is the header)\n",
    "    header_row = table_data[0]\n",
    "    header_separator = ['-' * len(str(cell)) if cell else '' for cell in header_row]\n",
    "    max_widths = [max(len(str(cell)) for cell in col) for col in zip(*table_data)]\n",
    "\n",
    "    # Adjust header_separator to match max widths\n",
    "    header_separator = ['-' * width for width in max_widths]\n",
    "\n",
    "    # Format the table\n",
    "    markdown_table = []\n",
    "    # Header row\n",
    "    markdown_table.append('| ' + ' | '.join(str(cell) for cell in header_row) + ' |')\n",
    "    # Separator row\n",
    "    markdown_table.append('| ' + ' | '.join(header_separator) + ' |')\n",
    "    # Data rows\n",
    "    for row in table_data[1:]:\n",
    "        markdown_table.append('| ' + ' | '.join(str(cell) for cell in row) + ' |')\n",
    "\n",
    "    return '\\n'.join(markdown_table)\n",
    "\n",
    "# Example usage\n",
    "# html_table = \"\"\"\n",
    "# <table>\n",
    "# <tr>\n",
    "# <td rowspan=\"2\">A</td>\n",
    "# <td>B</td>\n",
    "# </tr>\n",
    "# <tr>\n",
    "# <td>C</td>\n",
    "# </tr>\n",
    "# </table>\n",
    "# \"\"\"\n",
    "\n"
   ]
  },
  {
   "cell_type": "code",
   "execution_count": 11,
   "metadata": {},
   "outputs": [
    {
     "name": "stdout",
     "output_type": "stream",
     "text": [
      "| Số |  | Phần kê khai của người nộp | Phần kê khai của người nộp |\n",
      "| ---------- | ---------------------------------------------------------------------------------------------------------------------------------- | -------------------------------- | -------------------------- |\n",
      "| thứ\n",
      "    tự | Nội dung thu nhập | Thu nhập bằng ngoại tệ, hiện vật | Quy đổi đồng\n",
      "    Việt Nam |\n",
      "|  | - Tiền \n",
      "    lương, tiền công\n",
      "\n",
      "- Các khoản \n",
      "    khác\n",
      "\n",
      "+\n",
      "\n",
      "+ \n",
      "\n",
      "\n",
      "- Tổng số \n",
      "    thu nhập CT\n",
      "\n",
      "- Thuế thu \n",
      "    nhập phải nộp\n",
      "\n",
      "- Bằng chữ |  |  |\n"
     ]
    }
   ],
   "source": [
    "print(html_table_to_markdown(html_table))"
   ]
  }
 ],
 "metadata": {
  "kernelspec": {
   "display_name": "cmc-agent",
   "language": "python",
   "name": "python3"
  },
  "language_info": {
   "codemirror_mode": {
    "name": "ipython",
    "version": 3
   },
   "file_extension": ".py",
   "mimetype": "text/x-python",
   "name": "python",
   "nbconvert_exporter": "python",
   "pygments_lexer": "ipython3",
   "version": "3.9.21"
  }
 },
 "nbformat": 4,
 "nbformat_minor": 2
}
